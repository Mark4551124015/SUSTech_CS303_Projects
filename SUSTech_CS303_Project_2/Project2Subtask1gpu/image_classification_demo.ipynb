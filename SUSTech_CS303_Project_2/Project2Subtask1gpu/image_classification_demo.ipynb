{
 "cells": [
  {
   "cell_type": "code",
   "execution_count": 1,
   "metadata": {},
   "outputs": [],
   "source": [
    "import numpy as np\n",
    "import util\n",
    "from SoftmaxRegression import SoftmaxRegression"
   ]
  },
  {
   "cell_type": "markdown",
   "metadata": {},
   "source": [
    "## 1. Data Loading "
   ]
  },
  {
   "cell_type": "code",
   "execution_count": 2,
   "metadata": {},
   "outputs": [],
   "source": [
    "classification_train_data = util.load_data(\"./data/classification_train_data.pkl\")\n",
    "classification_train_label = util.load_data(\"./data/classification_train_label.pkl\")\n",
    "classification_test_data = util.load_data(\"./data/classification_test_data.pkl\")"
   ]
  },
  {
   "cell_type": "markdown",
   "metadata": {},
   "source": [
    "## 2. Data Exploration"
   ]
  },
  {
   "cell_type": "code",
   "execution_count": 3,
   "metadata": {},
   "outputs": [
    {
     "name": "stdout",
     "output_type": "stream",
     "text": [
      "Classification Train Data Shape: (49976, 257)\n",
      "Classification Train Label Shape: (49976, 2)\n",
      "Classification Test Data Shape: (9997, 257)\n"
     ]
    }
   ],
   "source": [
    "print(\"Classification Train Data Shape:\", classification_train_data.shape)\n",
    "print(\"Classification Train Label Shape:\", classification_train_label.shape)\n",
    "print(\"Classification Test Data Shape:\", classification_test_data.shape)"
   ]
  },
  {
   "cell_type": "markdown",
   "metadata": {},
   "source": [
    "## 3. Data Preprocessing"
   ]
  },
  {
   "cell_type": "code",
   "execution_count": 4,
   "metadata": {},
   "outputs": [],
   "source": [
    "# remove index column\n",
    "train_data_index = classification_train_data[:, 0]\n",
    "train_label_index = classification_train_label[:, 0]\n",
    "test_data_index = classification_test_data[:, 0]\n",
    "classification_train_data = classification_train_data[:, 1:]\n",
    "classification_train_label = classification_train_label[:, 1:].reshape(-1)\n",
    "classification_test_data = classification_test_data[:, 1:]"
   ]
  },
  {
   "cell_type": "code",
   "execution_count": 5,
   "metadata": {},
   "outputs": [
    {
     "data": {
      "text/plain": [
       "((49976, 256), (49976,), (9997, 256))"
      ]
     },
     "execution_count": 5,
     "metadata": {},
     "output_type": "execute_result"
    }
   ],
   "source": [
    "classification_train_data.shape, classification_train_label.shape, classification_test_data.shape"
   ]
  },
  {
   "cell_type": "code",
   "execution_count": 6,
   "metadata": {},
   "outputs": [
    {
     "data": {
      "text/plain": [
       "((49976,), (49976,), (9997,))"
      ]
     },
     "execution_count": 6,
     "metadata": {},
     "output_type": "execute_result"
    }
   ],
   "source": [
    "train_data_index.shape, train_label_index.shape, test_data_index.shape"
   ]
  },
  {
   "cell_type": "code",
   "execution_count": 7,
   "metadata": {},
   "outputs": [],
   "source": [
    "# normalization\n",
    "\n",
    "# calculate the mean and standard deviation of each column\n",
    "mean = np.mean(classification_train_data, axis=0)\n",
    "std_dev = np.std(classification_train_data, axis=0)\n",
    "\n",
    "# Z-Score normalizes each column\n",
    "classification_train_data = (classification_train_data - mean) / std_dev\n",
    "classification_test_data = (classification_test_data - mean) / std_dev"
   ]
  },
  {
   "cell_type": "code",
   "execution_count": 8,
   "metadata": {},
   "outputs": [
    {
     "name": "stdout",
     "output_type": "stream",
     "text": [
      "train label shape: (49976, 10)\n"
     ]
    }
   ],
   "source": [
    "# label one-hot encoding\n",
    "num_classes =  10 \n",
    "classification_train_label = np.eye(num_classes)[classification_train_label]\n",
    "print(\"train label shape:\", classification_train_label.shape)"
   ]
  },
  {
   "cell_type": "markdown",
   "metadata": {},
   "source": [
    "## 4. Dataset Splitting"
   ]
  },
  {
   "cell_type": "code",
   "execution_count": 9,
   "metadata": {},
   "outputs": [],
   "source": [
    "# divide the data set into training set and validation set\n",
    "train_ratio = 0.8\n",
    "seed = 123\n",
    "(train_data, train_labels), (validation_data, validation_labels) = util.split_train_validation(\n",
    "    classification_train_data, classification_train_label,\n",
    "    train_ratio=train_ratio, random_seed=seed\n",
    "    )"
   ]
  },
  {
   "cell_type": "code",
   "execution_count": 10,
   "metadata": {},
   "outputs": [
    {
     "data": {
      "text/plain": [
       "((39980, 256), (39980, 10), (9996, 256), (9996, 10))"
      ]
     },
     "execution_count": 10,
     "metadata": {},
     "output_type": "execute_result"
    }
   ],
   "source": [
    "train_data.shape, train_labels.shape, validation_data.shape, validation_labels.shape\n"
   ]
  },
  {
   "cell_type": "markdown",
   "metadata": {},
   "source": [
    "# 5. Model"
   ]
  },
  {
   "cell_type": "code",
   "execution_count": 11,
   "metadata": {},
   "outputs": [],
   "source": [
    "class lrStep():\n",
    "    def __init__(self, lr, step_point, coeff) -> None:\n",
    "        self.lr = lr\n",
    "        self.step_point = step_point\n",
    "        self.coeff = coeff\n",
    "        self.cnt = 0\n",
    "        \n",
    "    def step(self):\n",
    "        self.cnt+=1\n",
    "        if self.cnt in self.step_point:\n",
    "            self.lr *= self.coeff\n",
    "\n",
    "    def get_lr(self):\n",
    "        return self.lr\n",
    "\n",
    "steplizer = lrStep(lr=0.05, step_point=[6000,], coeff=1)\n",
    "\n",
    "linear_model = SoftmaxRegression(\n",
    "    num_classes=num_classes,\n",
    "    # learning_rate=0.1,\n",
    "    num_iterations=10000,\n",
    "    random_seed=seed,\n",
    "    lr_steplizer=steplizer\n",
    "    )\n",
    "\n",
    "# linear_model = util.load_data(\"model.pkl\")\n",
    "# linear_model.num_iterations=1000\n",
    "# linear_model.lr_steplizer=steplizer\n",
    "# linear_model\n"
   ]
  },
  {
   "cell_type": "markdown",
   "metadata": {},
   "source": [
    "## 6. Train "
   ]
  },
  {
   "cell_type": "code",
   "execution_count": 12,
   "metadata": {},
   "outputs": [
    {
     "name": "stderr",
     "output_type": "stream",
     "text": [
      " 17%|█▋        | 1660/10000 [01:35<07:57, 17.46it/s]\n"
     ]
    },
    {
     "ename": "KeyboardInterrupt",
     "evalue": "",
     "output_type": "error",
     "traceback": [
      "\u001b[0;31m---------------------------------------------------------------------------\u001b[0m",
      "\u001b[0;31mKeyboardInterrupt\u001b[0m                         Traceback (most recent call last)",
      "\u001b[1;32m/home/mark455/WORKSPACE/SUSTech_CS303_Project_2/Project2Subtask1/image_classification_demo.ipynb Cell 18\u001b[0m line \u001b[0;36m1\n\u001b[0;32m----> <a href='vscode-notebook-cell://wsl%2Bubuntu-22.04/home/mark455/WORKSPACE/SUSTech_CS303_Project_2/Project2Subtask1/image_classification_demo.ipynb#X23sdnNjb2RlLXJlbW90ZQ%3D%3D?line=0'>1</a>\u001b[0m train_losses, val_losses, train_accuracies, val_accuracies \u001b[39m=\u001b[39m linear_model\u001b[39m.\u001b[39;49mfit(\n\u001b[1;32m      <a href='vscode-notebook-cell://wsl%2Bubuntu-22.04/home/mark455/WORKSPACE/SUSTech_CS303_Project_2/Project2Subtask1/image_classification_demo.ipynb#X23sdnNjb2RlLXJlbW90ZQ%3D%3D?line=1'>2</a>\u001b[0m     X_train\u001b[39m=\u001b[39;49mtrain_data, y_train\u001b[39m=\u001b[39;49mtrain_labels, \n\u001b[1;32m      <a href='vscode-notebook-cell://wsl%2Bubuntu-22.04/home/mark455/WORKSPACE/SUSTech_CS303_Project_2/Project2Subtask1/image_classification_demo.ipynb#X23sdnNjb2RlLXJlbW90ZQ%3D%3D?line=2'>3</a>\u001b[0m     X_val\u001b[39m=\u001b[39;49mvalidation_data, y_val\u001b[39m=\u001b[39;49mvalidation_labels\n\u001b[1;32m      <a href='vscode-notebook-cell://wsl%2Bubuntu-22.04/home/mark455/WORKSPACE/SUSTech_CS303_Project_2/Project2Subtask1/image_classification_demo.ipynb#X23sdnNjb2RlLXJlbW90ZQ%3D%3D?line=3'>4</a>\u001b[0m     )\n",
      "File \u001b[0;32m~/WORKSPACE/SUSTech_CS303_Project_2/Project2Subtask1/SoftmaxRegression.py:42\u001b[0m, in \u001b[0;36mSoftmaxRegression.fit\u001b[0;34m(self, X_train, y_train, X_val, y_val)\u001b[0m\n\u001b[1;32m     39\u001b[0m loss \u001b[39m=\u001b[39m \u001b[39m-\u001b[39mnp\u001b[39m.\u001b[39mmean(y_train \u001b[39m*\u001b[39m np\u001b[39m.\u001b[39mlog(softmax_probs))\n\u001b[1;32m     41\u001b[0m \u001b[39m# Compute the gradient and update weights\u001b[39;00m\n\u001b[0;32m---> 42\u001b[0m gradient \u001b[39m=\u001b[39m np\u001b[39m.\u001b[39;49mdot(X_train_bias\u001b[39m.\u001b[39;49mT, softmax_probs \u001b[39m-\u001b[39;49m y_train) \u001b[39m/\u001b[39m X_train_bias\u001b[39m.\u001b[39mshape[\u001b[39m0\u001b[39m]\n\u001b[1;32m     43\u001b[0m \u001b[39mself\u001b[39m\u001b[39m.\u001b[39mweights \u001b[39m-\u001b[39m\u001b[39m=\u001b[39m learning_rate \u001b[39m*\u001b[39m gradient\n\u001b[1;32m     45\u001b[0m \u001b[39m# Calculate training accuracy\u001b[39;00m\n",
      "File \u001b[0;32m<__array_function__ internals>:200\u001b[0m, in \u001b[0;36mdot\u001b[0;34m(*args, **kwargs)\u001b[0m\n",
      "\u001b[0;31mKeyboardInterrupt\u001b[0m: "
     ]
    }
   ],
   "source": [
    "\n",
    "\n",
    "train_losses, val_losses, train_accuracies, val_accuracies = linear_model.fit(\n",
    "    X_train=train_data, y_train=train_labels, \n",
    "    X_val=validation_data, y_val=validation_labels\n",
    "    )\n",
    "\n"
   ]
  },
  {
   "cell_type": "code",
   "execution_count": null,
   "metadata": {},
   "outputs": [],
   "source": [
    "util.plot_loss_curves(train_losses=train_losses, val_losses=val_losses)"
   ]
  },
  {
   "cell_type": "code",
   "execution_count": null,
   "metadata": {},
   "outputs": [],
   "source": [
    "print(train_accuracies[-1])\n",
    "print(val_accuracies[-1])\n",
    "\n"
   ]
  },
  {
   "cell_type": "code",
   "execution_count": null,
   "metadata": {},
   "outputs": [],
   "source": []
  },
  {
   "cell_type": "code",
   "execution_count": null,
   "metadata": {},
   "outputs": [],
   "source": [
    "util.plot_acc_curves(train_acc=train_accuracies, val_acc=val_accuracies)"
   ]
  },
  {
   "cell_type": "code",
   "execution_count": null,
   "metadata": {},
   "outputs": [],
   "source": [
    "val_accuracies[-5:]"
   ]
  },
  {
   "cell_type": "markdown",
   "metadata": {},
   "source": [
    "## 7. Predict"
   ]
  },
  {
   "cell_type": "code",
   "execution_count": null,
   "metadata": {},
   "outputs": [],
   "source": [
    "test_label_predict = linear_model.predict(classification_test_data)"
   ]
  },
  {
   "cell_type": "code",
   "execution_count": null,
   "metadata": {},
   "outputs": [],
   "source": [
    "# merge index and corresponding classification results \n",
    "submit_data = np.hstack((\n",
    "    test_data_index.reshape(-1, 1),\n",
    "    test_label_predict.reshape(-1, 1)\n",
    "    ))"
   ]
  },
  {
   "cell_type": "code",
   "execution_count": null,
   "metadata": {},
   "outputs": [],
   "source": [
    "submit_data.shape"
   ]
  },
  {
   "cell_type": "code",
   "execution_count": null,
   "metadata": {},
   "outputs": [],
   "source": [
    "util.save_data('./model.pkl', linear_model)\n",
    "util.save_data('./classification_results.pkl', submit_data)"
   ]
  }
 ],
 "metadata": {
  "kernelspec": {
   "display_name": "Python 3 (ipykernel)",
   "language": "python",
   "name": "python3"
  },
  "language_info": {
   "codemirror_mode": {
    "name": "ipython",
    "version": 3
   },
   "file_extension": ".py",
   "mimetype": "text/x-python",
   "name": "python",
   "nbconvert_exporter": "python",
   "pygments_lexer": "ipython3",
   "version": "3.10.12"
  }
 },
 "nbformat": 4,
 "nbformat_minor": 4
}
