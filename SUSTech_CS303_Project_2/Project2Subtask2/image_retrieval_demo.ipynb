{
 "cells": [
  {
   "cell_type": "code",
   "execution_count": 1,
   "metadata": {},
   "outputs": [],
   "source": [
    "import numpy as np\n",
    "import util\n",
    "from NNS import NNS\n",
    "from PIL import Image"
   ]
  },
  {
   "cell_type": "markdown",
   "metadata": {},
   "source": [
    "## 1. Data Loading"
   ]
  },
  {
   "cell_type": "code",
   "execution_count": 2,
   "metadata": {},
   "outputs": [],
   "source": [
    "retrieval_repository_data = util.load_data('./data/image_retrieval_repository_data.pkl')\n",
    "retrieval_test_data = util.load_data('./data/image_retrieval_test_data.pkl')"
   ]
  },
  {
   "cell_type": "markdown",
   "metadata": {},
   "source": [
    "## 2. Data Exploration"
   ]
  },
  {
   "cell_type": "code",
   "execution_count": 3,
   "metadata": {},
   "outputs": [
    {
     "name": "stdout",
     "output_type": "stream",
     "text": [
      "Image Retrieval Repository Data Shape: (5000, 257)\n",
      "Image Retrieval Test Data Shape: (1000, 257)\n"
     ]
    }
   ],
   "source": [
    "print(\"Image Retrieval Repository Data Shape:\", retrieval_repository_data.shape)\n",
    "print(\"Image Retrieval Test Data Shape:\", retrieval_test_data.shape)"
   ]
  },
  {
   "cell_type": "markdown",
   "metadata": {},
   "source": [
    "## 3. Data Preprocessing "
   ]
  },
  {
   "cell_type": "code",
   "execution_count": 4,
   "metadata": {},
   "outputs": [],
   "source": [
    "# remove index column\n",
    "repository_data_index = retrieval_repository_data[:, 0]\n",
    "test_data_index = retrieval_test_data[:, 0]\n",
    "retrieval_repository_data = retrieval_repository_data[:, 1:]\n",
    "retrieval_test_data = retrieval_test_data[:, 1:]"
   ]
  },
  {
   "cell_type": "code",
   "execution_count": 5,
   "metadata": {},
   "outputs": [
    {
     "data": {
      "text/plain": [
       "((5000,), (1000,))"
      ]
     },
     "execution_count": 5,
     "metadata": {},
     "output_type": "execute_result"
    }
   ],
   "source": [
    "repository_data_index.shape, test_data_index.shape"
   ]
  },
  {
   "cell_type": "code",
   "execution_count": 14,
   "metadata": {},
   "outputs": [],
   "source": [
    "retrieval_repository_data.shape,  retrieval_test_data.shape\n",
    "for i in range(len(retrieval_repository_data)):\n",
    "    arr =retrieval_repository_data[i]\n",
    "    arr = np.array(arr)\n",
    "\n",
    "    arr = arr.reshape(16,16)\n",
    "    img = Image.fromarray(arr)\n",
    "    if img.mode == \"F\":\n",
    "        img = img.convert('RGB') \n",
    "\n",
    "    img.save('img/{}_test.jpg'.format(i))"
   ]
  },
  {
   "cell_type": "markdown",
   "metadata": {},
   "source": [
    "## 4. Model"
   ]
  },
  {
   "cell_type": "code",
   "execution_count": 7,
   "metadata": {},
   "outputs": [],
   "source": [
    "nns_model = NNS(k=10)"
   ]
  },
  {
   "cell_type": "markdown",
   "metadata": {},
   "source": [
    "## 5. Train"
   ]
  },
  {
   "cell_type": "code",
   "execution_count": 8,
   "metadata": {},
   "outputs": [],
   "source": [
    "nns_model.fit(X_train=retrieval_repository_data)"
   ]
  },
  {
   "cell_type": "markdown",
   "metadata": {},
   "source": [
    "## 6. Predict"
   ]
  },
  {
   "cell_type": "code",
   "execution_count": 9,
   "metadata": {},
   "outputs": [
    {
     "name": "stderr",
     "output_type": "stream",
     "text": [
      "  0%|          | 0/1000 [00:00<?, ?it/s]"
     ]
    },
    {
     "name": "stderr",
     "output_type": "stream",
     "text": [
      "100%|██████████| 1000/1000 [00:15<00:00, 66.58it/s]\n"
     ]
    }
   ],
   "source": [
    "k_nearest = nns_model.predict(retrieval_test_data)"
   ]
  },
  {
   "cell_type": "code",
   "execution_count": 10,
   "metadata": {},
   "outputs": [
    {
     "data": {
      "text/plain": [
       "(1000, 10)"
      ]
     },
     "execution_count": 10,
     "metadata": {},
     "output_type": "execute_result"
    }
   ],
   "source": [
    "k_nearest.shape\n"
   ]
  },
  {
   "cell_type": "code",
   "execution_count": 11,
   "metadata": {},
   "outputs": [
    {
     "data": {
      "text/plain": [
       "array([[7204.,  952., 1517., ...,  235.,  246., 2198.],\n",
       "       [9613., 2503., 1008., ..., 1038., 1659.,  235.],\n",
       "       [6119., 2355., 3745., ..., 4662., 4819., 3184.],\n",
       "       ...,\n",
       "       [4296., 4073., 3710., ..., 1994., 2931., 4116.],\n",
       "       [3156., 1074., 2947., ..., 4453., 2178., 3539.],\n",
       "       [5776., 4862., 3105., ..., 4881.,  462.,  159.]])"
      ]
     },
     "execution_count": 11,
     "metadata": {},
     "output_type": "execute_result"
    }
   ],
   "source": [
    "# merge index and corresponding results \n",
    "submit_data = np.hstack((\n",
    "    test_data_index.reshape(-1, 1),\n",
    "    k_nearest\n",
    "    ))\n",
    "submit_data.shape\n",
    "submit_data"
   ]
  },
  {
   "cell_type": "code",
   "execution_count": 12,
   "metadata": {},
   "outputs": [
    {
     "name": "stdout",
     "output_type": "stream",
     "text": [
      "Saved successfully\n"
     ]
    }
   ],
   "source": [
    "util.save_data('./retrieval_results.pkl', submit_data)"
   ]
  }
 ],
 "metadata": {
  "kernelspec": {
   "display_name": "Python 3 (ipykernel)",
   "language": "python",
   "name": "python3"
  },
  "language_info": {
   "codemirror_mode": {
    "name": "ipython",
    "version": 3
   },
   "file_extension": ".py",
   "mimetype": "text/x-python",
   "name": "python",
   "nbconvert_exporter": "python",
   "pygments_lexer": "ipython3",
   "version": "3.10.12"
  }
 },
 "nbformat": 4,
 "nbformat_minor": 4
}
