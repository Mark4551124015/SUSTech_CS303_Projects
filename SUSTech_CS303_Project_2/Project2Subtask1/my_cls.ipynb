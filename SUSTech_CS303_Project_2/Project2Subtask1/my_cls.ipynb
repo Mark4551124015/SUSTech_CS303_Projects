{
 "cells": [
  {
   "cell_type": "code",
   "execution_count": 1,
   "metadata": {},
   "outputs": [
    {
     "ename": "ModuleNotFoundError",
     "evalue": "No module named 'matplotlib'",
     "output_type": "error",
     "traceback": [
      "\u001b[0;31m---------------------------------------------------------------------------\u001b[0m",
      "\u001b[0;31mModuleNotFoundError\u001b[0m                       Traceback (most recent call last)",
      "\u001b[1;32m/home/mark455/WORKSPACE/SUSTech_CS303_Project_2/Project2Subtask1/my_cls.ipynb Cell 1\u001b[0m line \u001b[0;36m2\n\u001b[1;32m      <a href='vscode-notebook-cell://wsl%2Bubuntu/home/mark455/WORKSPACE/SUSTech_CS303_Project_2/Project2Subtask1/my_cls.ipynb#W0sdnNjb2RlLXJlbW90ZQ%3D%3D?line=0'>1</a>\u001b[0m \u001b[39mimport\u001b[39;00m \u001b[39mnumpy\u001b[39;00m \u001b[39mas\u001b[39;00m \u001b[39mnp\u001b[39;00m\n\u001b[0;32m----> <a href='vscode-notebook-cell://wsl%2Bubuntu/home/mark455/WORKSPACE/SUSTech_CS303_Project_2/Project2Subtask1/my_cls.ipynb#W0sdnNjb2RlLXJlbW90ZQ%3D%3D?line=1'>2</a>\u001b[0m \u001b[39mimport\u001b[39;00m \u001b[39mutil\u001b[39;00m\n\u001b[1;32m      <a href='vscode-notebook-cell://wsl%2Bubuntu/home/mark455/WORKSPACE/SUSTech_CS303_Project_2/Project2Subtask1/my_cls.ipynb#W0sdnNjb2RlLXJlbW90ZQ%3D%3D?line=2'>3</a>\u001b[0m \u001b[39mfrom\u001b[39;00m \u001b[39mSoftmaxRegression\u001b[39;00m \u001b[39mimport\u001b[39;00m SoftmaxRegression\n\u001b[1;32m      <a href='vscode-notebook-cell://wsl%2Bubuntu/home/mark455/WORKSPACE/SUSTech_CS303_Project_2/Project2Subtask1/my_cls.ipynb#W0sdnNjb2RlLXJlbW90ZQ%3D%3D?line=3'>4</a>\u001b[0m \u001b[39mfrom\u001b[39;00m \u001b[39mANN\u001b[39;00m \u001b[39mimport\u001b[39;00m \u001b[39m*\u001b[39m\n",
      "File \u001b[0;32m~/WORKSPACE/SUSTech_CS303_Project_2/Project2Subtask1/util.py:3\u001b[0m\n\u001b[1;32m      1\u001b[0m \u001b[39mimport\u001b[39;00m \u001b[39mpickle\u001b[39;00m\n\u001b[1;32m      2\u001b[0m \u001b[39mimport\u001b[39;00m \u001b[39mnumpy\u001b[39;00m \u001b[39mas\u001b[39;00m \u001b[39mnp\u001b[39;00m\n\u001b[0;32m----> 3\u001b[0m \u001b[39mimport\u001b[39;00m \u001b[39mmatplotlib\u001b[39;00m\u001b[39m.\u001b[39;00m\u001b[39mpyplot\u001b[39;00m \u001b[39mas\u001b[39;00m \u001b[39mplt\u001b[39;00m\n\u001b[1;32m      6\u001b[0m \u001b[39mdef\u001b[39;00m \u001b[39msave_data\u001b[39m(file_name, data):\n\u001b[1;32m      7\u001b[0m \u001b[39m    \u001b[39m\u001b[39m\"\"\"\u001b[39;00m\n\u001b[1;32m      8\u001b[0m \u001b[39m    Save ndarray to file_name.pkl \u001b[39;00m\n\u001b[1;32m      9\u001b[0m \u001b[39m    \u001b[39;00m\n\u001b[0;32m   (...)\u001b[0m\n\u001b[1;32m     12\u001b[0m \u001b[39m    - data: numpy array\u001b[39;00m\n\u001b[1;32m     13\u001b[0m \u001b[39m    \"\"\"\u001b[39;00m\n",
      "\u001b[0;31mModuleNotFoundError\u001b[0m: No module named 'matplotlib'"
     ]
    }
   ],
   "source": [
    "import numpy as np\n",
    "import util\n",
    "from ANN import *\n",
    "from tensorboardX import SummaryWriter\n",
    "import time\n",
    "from ANN2 import *"
   ]
  },
  {
   "cell_type": "markdown",
   "metadata": {},
   "source": [
    "## 1. Data Loading "
   ]
  },
  {
   "cell_type": "code",
   "execution_count": null,
   "metadata": {},
   "outputs": [],
   "source": [
    "classification_train_data = util.load_data(\"./data/classification_train_data.pkl\")\n",
    "classification_train_label = util.load_data(\"./data/classification_train_label.pkl\")\n",
    "classification_test_data = util.load_data(\"./data/classification_test_data.pkl\")"
   ]
  },
  {
   "cell_type": "markdown",
   "metadata": {},
   "source": [
    "## 2. Data Exploration"
   ]
  },
  {
   "cell_type": "code",
   "execution_count": null,
   "metadata": {},
   "outputs": [
    {
     "name": "stdout",
     "output_type": "stream",
     "text": [
      "Classification Train Data Shape: (49976, 257)\n",
      "Classification Train Label Shape: (49976, 2)\n",
      "Classification Test Data Shape: (9997, 257)\n"
     ]
    }
   ],
   "source": [
    "print(\"Classification Train Data Shape:\", classification_train_data.shape)\n",
    "print(\"Classification Train Label Shape:\", classification_train_label.shape)\n",
    "print(\"Classification Test Data Shape:\", classification_test_data.shape)"
   ]
  },
  {
   "cell_type": "markdown",
   "metadata": {},
   "source": [
    "## 3. Data Preprocessing"
   ]
  },
  {
   "cell_type": "code",
   "execution_count": null,
   "metadata": {},
   "outputs": [],
   "source": [
    "# remove index column\n",
    "train_data_index = classification_train_data[:, 0]\n",
    "train_label_index = classification_train_label[:, 0]\n",
    "test_data_index = classification_test_data[:, 0]\n",
    "classification_train_data = classification_train_data[:, 1:]\n",
    "classification_train_label = classification_train_label[:, 1:].reshape(-1)\n",
    "classification_test_data = classification_test_data[:, 1:]"
   ]
  },
  {
   "cell_type": "code",
   "execution_count": null,
   "metadata": {},
   "outputs": [
    {
     "data": {
      "text/plain": [
       "((49976, 256), (49976,), (9997, 256))"
      ]
     },
     "execution_count": 5,
     "metadata": {},
     "output_type": "execute_result"
    }
   ],
   "source": [
    "classification_train_data.shape, classification_train_label.shape, classification_test_data.shape"
   ]
  },
  {
   "cell_type": "code",
   "execution_count": null,
   "metadata": {},
   "outputs": [
    {
     "data": {
      "text/plain": [
       "((49976,), (49976,), (9997,))"
      ]
     },
     "execution_count": 6,
     "metadata": {},
     "output_type": "execute_result"
    }
   ],
   "source": [
    "train_data_index.shape, train_label_index.shape, test_data_index.shape"
   ]
  },
  {
   "cell_type": "code",
   "execution_count": null,
   "metadata": {},
   "outputs": [],
   "source": [
    "# normalization\n",
    "\n",
    "# calculate the mean and standard deviation of each column\n",
    "mean = np.mean(classification_train_data, axis=0)\n",
    "std_dev = np.std(classification_train_data, axis=0)\n",
    "\n",
    "# Z-Score normalizes each column\n",
    "classification_train_data = (classification_train_data - mean) / std_dev\n",
    "classification_test_data = (classification_test_data - mean) / std_dev"
   ]
  },
  {
   "cell_type": "code",
   "execution_count": null,
   "metadata": {},
   "outputs": [
    {
     "name": "stdout",
     "output_type": "stream",
     "text": [
      "train label shape: (49976, 10)\n"
     ]
    }
   ],
   "source": [
    "# label one-hot encoding\n",
    "num_classes =  10 \n",
    "classification_train_label = np.eye(num_classes)[classification_train_label]\n",
    "print(\"train label shape:\", classification_train_label.shape)"
   ]
  },
  {
   "cell_type": "markdown",
   "metadata": {},
   "source": [
    "## 4. Dataset Splitting"
   ]
  },
  {
   "cell_type": "code",
   "execution_count": null,
   "metadata": {},
   "outputs": [],
   "source": [
    "# divide the data set into training set and validation set\n",
    "train_ratio = 0.8\n",
    "seed = 123\n",
    "(train_data, train_labels), (validation_data, validation_labels) = util.split_train_validation(\n",
    "    classification_train_data, classification_train_label,\n",
    "    train_ratio=train_ratio, random_seed=seed\n",
    "    )"
   ]
  },
  {
   "cell_type": "code",
   "execution_count": null,
   "metadata": {},
   "outputs": [
    {
     "data": {
      "text/plain": [
       "((39980, 256), (39980, 10), (9996, 256), (9996, 10))"
      ]
     },
     "execution_count": 10,
     "metadata": {},
     "output_type": "execute_result"
    }
   ],
   "source": [
    "\n",
    "train_set = (train_data, train_labels)\n",
    "val_set = (validation_data, validation_labels)\n",
    "train_data.shape, train_labels.shape, validation_data.shape, validation_labels.shape\n"
   ]
  },
  {
   "cell_type": "markdown",
   "metadata": {},
   "source": [
    "# 5. Model"
   ]
  },
  {
   "cell_type": "code",
   "execution_count": null,
   "metadata": {},
   "outputs": [],
   "source": [
    "ann = MyANN(n_inputs=256,n_hidden=16,n_outputs=10)\n",
    "ann2 = NeuralNetwork(n_inputs=256,n_hidden=8,n_outputs=10,dropout_rate=0.2)\n"
   ]
  },
  {
   "cell_type": "code",
   "execution_count": null,
   "metadata": {},
   "outputs": [],
   "source": [
    "train_wr = SummaryWriter(log_dir='logs/Train')\n",
    "val_wr = SummaryWriter(log_dir='logs/Val')"
   ]
  },
  {
   "cell_type": "markdown",
   "metadata": {},
   "source": [
    "## 6. Train "
   ]
  },
  {
   "cell_type": "code",
   "execution_count": null,
   "metadata": {},
   "outputs": [],
   "source": [
    "def random_shuffle(data,label):\n",
    "    randnum = np.random.randint(0, 1234)\n",
    "    np.random.seed(randnum)\n",
    "    np.random.shuffle(data)\n",
    "    np.random.seed(randnum)\n",
    "    np.random.shuffle(label)\n",
    "    return data,label\n",
    "\n",
    "def train_network(model:NeuralNetwork, train_set:tuple, val_set:tuple, opt:My_Opt, n_epoch, save_path, loss_func):\n",
    "    train_size=len(train_set[0])\n",
    "    val_size=len(val_set[0])\n",
    "    train_x, train_y = train_set\n",
    "    val_x, val_y = val_set\n",
    "    best_val = 0.0\n",
    "    for epoch in range(n_epoch):\n",
    "        train_pred=[]\n",
    "        train_loss = 0\n",
    "        learning_rate = opt.get_learning_rate()\n",
    "        train_x, train_y = random_shuffle(train_x, train_y)\n",
    "        val_x, val_y = random_shuffle(val_x, val_y)\n",
    "        for index in tqdm(range(train_size)):\n",
    "            row, expected = train_x[index], train_y[index]\n",
    "            outputs = model.forward(row)\n",
    "            train_pred.append(outputs)\n",
    "            train_loss += loss_func(outputs, expected)\n",
    "            model.backward(row, expected, learning_rate)\n",
    "        opt.step()\n",
    "        train_accuracy = accuracy_score(np.argmax(train_y, axis=1), np.argmax(train_pred, axis=1))\n",
    "        train_wr.add_scalar('accuracy', train_accuracy, epoch)\n",
    "        train_wr.add_scalar('loss', train_loss, epoch)\n",
    "\n",
    "\n",
    "        val_pred=[]\n",
    "        val_loss = 0\n",
    "        for index in tqdm(range(val_size)):\n",
    "            row, expected = val_x[index], val_y[index]\n",
    "            outputs = model.predict(row)\n",
    "            val_pred.append(outputs)\n",
    "            val_loss += loss_func(outputs, expected)\n",
    "        val_accuracy = accuracy_score(np.argmax(val_y, axis=1), np.argmax(val_pred, axis=1))\n",
    "        val_wr.add_scalar('accuracy', val_accuracy, epoch)\n",
    "        val_wr.add_scalar('loss', val_loss, epoch)\n",
    "        if (val_accuracy > best_val):\n",
    "            best_val = val_accuracy\n",
    "            util.save_data(save_path, model)\n",
    "            \n",
    "\n",
    "\n",
    "        print('>epoch=%d, learning_rate=%.3f, train_acc=%.4f, val_acc=%.4f' % (epoch, learning_rate, train_accuracy,val_accuracy))"
   ]
  },
  {
   "cell_type": "code",
   "execution_count": null,
   "metadata": {},
   "outputs": [],
   "source": [
    "loss_func=cross_entropy_loss\n",
    "my_opt = My_Opt(alpha=0.5, beta1=0.9, beta2=0.999, epsilon=1e-8)\n",
    "\n",
    "# train_network(model=ann,train_set=train_set, val_set=val_set, opt=my_opt,\n",
    "#               n_epoch=30, save_path='./pths/model.pth', loss_func=cross_entropy_loss)\n"
   ]
  },
  {
   "cell_type": "code",
   "execution_count": null,
   "metadata": {},
   "outputs": [
    {
     "name": "stderr",
     "output_type": "stream",
     "text": [
      " 15%|█▍        | 5882/39980 [00:00<00:01, 29117.42it/s]"
     ]
    },
    {
     "name": "stderr",
     "output_type": "stream",
     "text": [
      "100%|██████████| 39980/39980 [00:01<00:00, 29790.47it/s]\n",
      "100%|██████████| 9996/9996 [00:00<00:00, 68902.14it/s]"
     ]
    },
    {
     "name": "stdout",
     "output_type": "stream",
     "text": [
      "Saved successfully\n",
      "\u001b[H\u001b[2J\r"
     ]
    },
    {
     "name": "stderr",
     "output_type": "stream",
     "text": [
      "\n"
     ]
    },
    {
     "name": "stdout",
     "output_type": "stream",
     "text": [
      ">epoch=0, learning_rate=0.158, train_acc=0.1348, val_acc=0.1612\n"
     ]
    },
    {
     "name": "stderr",
     "output_type": "stream",
     "text": [
      "100%|██████████| 39980/39980 [00:01<00:00, 29606.16it/s]\n",
      "100%|██████████| 9996/9996 [00:00<00:00, 71836.44it/s]"
     ]
    },
    {
     "name": "stdout",
     "output_type": "stream",
     "text": [
      "Saved successfully\n",
      "\u001b[H\u001b[2J\r"
     ]
    },
    {
     "name": "stderr",
     "output_type": "stream",
     "text": [
      "\n"
     ]
    },
    {
     "name": "stdout",
     "output_type": "stream",
     "text": [
      ">epoch=1, learning_rate=0.118, train_acc=0.1722, val_acc=0.1780\n"
     ]
    },
    {
     "name": "stderr",
     "output_type": "stream",
     "text": [
      "100%|██████████| 39980/39980 [00:01<00:00, 29198.47it/s]\n",
      "100%|██████████| 9996/9996 [00:00<00:00, 68840.59it/s]"
     ]
    },
    {
     "name": "stdout",
     "output_type": "stream",
     "text": [
      "Saved successfully\n",
      "\u001b[H\u001b[2J\r"
     ]
    },
    {
     "name": "stderr",
     "output_type": "stream",
     "text": [
      "\n"
     ]
    },
    {
     "name": "stdout",
     "output_type": "stream",
     "text": [
      ">epoch=2, learning_rate=0.101, train_acc=0.2008, val_acc=0.2135\n"
     ]
    },
    {
     "name": "stderr",
     "output_type": "stream",
     "text": [
      "100%|██████████| 39980/39980 [00:01<00:00, 29562.77it/s]\n",
      "100%|██████████| 9996/9996 [00:00<00:00, 68762.35it/s]"
     ]
    },
    {
     "name": "stdout",
     "output_type": "stream",
     "text": [
      "Saved successfully\n",
      "\u001b[H\u001b[2J\r"
     ]
    },
    {
     "name": "stderr",
     "output_type": "stream",
     "text": [
      "\n"
     ]
    },
    {
     "name": "stdout",
     "output_type": "stream",
     "text": [
      ">epoch=3, learning_rate=0.092, train_acc=0.2317, val_acc=0.2433\n"
     ]
    },
    {
     "name": "stderr",
     "output_type": "stream",
     "text": [
      "100%|██████████| 39980/39980 [00:01<00:00, 29766.31it/s]\n",
      "100%|██████████| 9996/9996 [00:00<00:00, 68164.47it/s]"
     ]
    },
    {
     "name": "stdout",
     "output_type": "stream",
     "text": [
      "Saved successfully\n",
      "\u001b[H\u001b[2J\r"
     ]
    },
    {
     "name": "stderr",
     "output_type": "stream",
     "text": [
      "\n"
     ]
    },
    {
     "name": "stdout",
     "output_type": "stream",
     "text": [
      ">epoch=4, learning_rate=0.086, train_acc=0.2603, val_acc=0.2725\n"
     ]
    },
    {
     "name": "stderr",
     "output_type": "stream",
     "text": [
      "100%|██████████| 39980/39980 [00:01<00:00, 28666.29it/s]\n",
      "100%|██████████| 9996/9996 [00:00<00:00, 67142.18it/s]"
     ]
    },
    {
     "name": "stdout",
     "output_type": "stream",
     "text": [
      "Saved successfully\n",
      "\u001b[H\u001b[2J\r"
     ]
    },
    {
     "name": "stderr",
     "output_type": "stream",
     "text": [
      "\n"
     ]
    },
    {
     "name": "stdout",
     "output_type": "stream",
     "text": [
      ">epoch=5, learning_rate=0.083, train_acc=0.2898, val_acc=0.3004\n"
     ]
    },
    {
     "name": "stderr",
     "output_type": "stream",
     "text": [
      "100%|██████████| 39980/39980 [00:01<00:00, 29608.58it/s]\n",
      "100%|██████████| 9996/9996 [00:00<00:00, 69230.72it/s]"
     ]
    },
    {
     "name": "stdout",
     "output_type": "stream",
     "text": [
      "Saved successfully\n",
      "\u001b[H\u001b[2J\r"
     ]
    },
    {
     "name": "stderr",
     "output_type": "stream",
     "text": [
      "\n"
     ]
    },
    {
     "name": "stdout",
     "output_type": "stream",
     "text": [
      ">epoch=6, learning_rate=0.080, train_acc=0.3177, val_acc=0.3218\n"
     ]
    },
    {
     "name": "stderr",
     "output_type": "stream",
     "text": [
      "100%|██████████| 39980/39980 [00:01<00:00, 29434.45it/s]\n",
      "100%|██████████| 9996/9996 [00:00<00:00, 63554.97it/s]"
     ]
    },
    {
     "name": "stdout",
     "output_type": "stream",
     "text": [
      "Saved successfully\n",
      "\u001b[H\u001b[2J\r"
     ]
    },
    {
     "name": "stderr",
     "output_type": "stream",
     "text": [
      "\n"
     ]
    },
    {
     "name": "stdout",
     "output_type": "stream",
     "text": [
      ">epoch=7, learning_rate=0.078, train_acc=0.3404, val_acc=0.3368\n"
     ]
    },
    {
     "name": "stderr",
     "output_type": "stream",
     "text": [
      "100%|██████████| 39980/39980 [00:01<00:00, 29485.53it/s]\n",
      "100%|██████████| 9996/9996 [00:00<00:00, 73380.79it/s]"
     ]
    },
    {
     "name": "stdout",
     "output_type": "stream",
     "text": [
      "Saved successfully\n",
      "\u001b[H\u001b[2J\r"
     ]
    },
    {
     "name": "stderr",
     "output_type": "stream",
     "text": [
      "\n"
     ]
    },
    {
     "name": "stdout",
     "output_type": "stream",
     "text": [
      ">epoch=8, learning_rate=0.077, train_acc=0.3627, val_acc=0.3614\n"
     ]
    },
    {
     "name": "stderr",
     "output_type": "stream",
     "text": [
      "100%|██████████| 39980/39980 [00:01<00:00, 30492.24it/s]\n",
      "100%|██████████| 9996/9996 [00:00<00:00, 69298.81it/s]"
     ]
    },
    {
     "name": "stdout",
     "output_type": "stream",
     "text": [
      "Saved successfully\n",
      "\u001b[H\u001b[2J\r"
     ]
    },
    {
     "name": "stderr",
     "output_type": "stream",
     "text": [
      "\n"
     ]
    },
    {
     "name": "stdout",
     "output_type": "stream",
     "text": [
      ">epoch=9, learning_rate=0.077, train_acc=0.3763, val_acc=0.3736\n"
     ]
    },
    {
     "name": "stderr",
     "output_type": "stream",
     "text": [
      "100%|██████████| 39980/39980 [00:01<00:00, 29645.40it/s]\n",
      "100%|██████████| 9996/9996 [00:00<00:00, 70556.56it/s]"
     ]
    },
    {
     "name": "stdout",
     "output_type": "stream",
     "text": [
      "Saved successfully\n",
      "\u001b[H\u001b[2J\r"
     ]
    },
    {
     "name": "stderr",
     "output_type": "stream",
     "text": [
      "\n"
     ]
    },
    {
     "name": "stdout",
     "output_type": "stream",
     "text": [
      ">epoch=10, learning_rate=0.076, train_acc=0.3928, val_acc=0.3837\n"
     ]
    },
    {
     "name": "stderr",
     "output_type": "stream",
     "text": [
      "100%|██████████| 39980/39980 [00:01<00:00, 30055.32it/s]\n",
      "100%|██████████| 9996/9996 [00:00<00:00, 69805.90it/s]"
     ]
    },
    {
     "name": "stdout",
     "output_type": "stream",
     "text": [
      "Saved successfully\n",
      "\u001b[H\u001b[2J\r"
     ]
    },
    {
     "name": "stderr",
     "output_type": "stream",
     "text": [
      "\n"
     ]
    },
    {
     "name": "stdout",
     "output_type": "stream",
     "text": [
      ">epoch=11, learning_rate=0.076, train_acc=0.4047, val_acc=0.3914\n"
     ]
    },
    {
     "name": "stderr",
     "output_type": "stream",
     "text": [
      "100%|██████████| 39980/39980 [00:01<00:00, 30141.84it/s]\n",
      "100%|██████████| 9996/9996 [00:00<00:00, 71209.43it/s]"
     ]
    },
    {
     "name": "stdout",
     "output_type": "stream",
     "text": [
      "Saved successfully\n",
      "\u001b[H\u001b[2J\r"
     ]
    },
    {
     "name": "stderr",
     "output_type": "stream",
     "text": [
      "\n"
     ]
    },
    {
     "name": "stdout",
     "output_type": "stream",
     "text": [
      ">epoch=12, learning_rate=0.076, train_acc=0.4171, val_acc=0.4007\n"
     ]
    },
    {
     "name": "stderr",
     "output_type": "stream",
     "text": [
      "100%|██████████| 39980/39980 [00:01<00:00, 30423.19it/s]\n",
      "100%|██████████| 9996/9996 [00:00<00:00, 68703.65it/s]"
     ]
    },
    {
     "name": "stdout",
     "output_type": "stream",
     "text": [
      "Saved successfully\n",
      "\u001b[H\u001b[2J\r"
     ]
    },
    {
     "name": "stderr",
     "output_type": "stream",
     "text": [
      "\n"
     ]
    },
    {
     "name": "stdout",
     "output_type": "stream",
     "text": [
      ">epoch=13, learning_rate=0.076, train_acc=0.4242, val_acc=0.4131\n"
     ]
    },
    {
     "name": "stderr",
     "output_type": "stream",
     "text": [
      "100%|██████████| 39980/39980 [00:01<00:00, 30761.98it/s]\n",
      "100%|██████████| 9996/9996 [00:00<00:00, 61601.28it/s]"
     ]
    },
    {
     "name": "stdout",
     "output_type": "stream",
     "text": [
      "Saved successfully\n",
      "\u001b[H\u001b[2J\r"
     ]
    },
    {
     "name": "stderr",
     "output_type": "stream",
     "text": [
      "\n"
     ]
    },
    {
     "name": "stdout",
     "output_type": "stream",
     "text": [
      ">epoch=14, learning_rate=0.077, train_acc=0.4324, val_acc=0.4206\n"
     ]
    },
    {
     "name": "stderr",
     "output_type": "stream",
     "text": [
      "100%|██████████| 39980/39980 [00:01<00:00, 27699.81it/s]\n",
      "100%|██████████| 9996/9996 [00:00<00:00, 69086.75it/s]"
     ]
    },
    {
     "name": "stdout",
     "output_type": "stream",
     "text": [
      "Saved successfully\n",
      "\u001b[H\u001b[2J\r"
     ]
    },
    {
     "name": "stderr",
     "output_type": "stream",
     "text": [
      "\n"
     ]
    },
    {
     "name": "stdout",
     "output_type": "stream",
     "text": [
      ">epoch=15, learning_rate=0.077, train_acc=0.4392, val_acc=0.4280\n"
     ]
    },
    {
     "name": "stderr",
     "output_type": "stream",
     "text": [
      "100%|██████████| 39980/39980 [00:01<00:00, 29591.38it/s]\n",
      "100%|██████████| 9996/9996 [00:00<00:00, 71872.77it/s]"
     ]
    },
    {
     "name": "stdout",
     "output_type": "stream",
     "text": [
      "\u001b[H\u001b[2J\r"
     ]
    },
    {
     "name": "stderr",
     "output_type": "stream",
     "text": [
      "\n"
     ]
    },
    {
     "name": "stdout",
     "output_type": "stream",
     "text": [
      ">epoch=16, learning_rate=0.078, train_acc=0.4425, val_acc=0.4257\n"
     ]
    },
    {
     "name": "stderr",
     "output_type": "stream",
     "text": [
      "100%|██████████| 39980/39980 [00:01<00:00, 29566.50it/s]\n",
      "100%|██████████| 9996/9996 [00:00<00:00, 73628.86it/s]"
     ]
    },
    {
     "name": "stdout",
     "output_type": "stream",
     "text": [
      "Saved successfully\n",
      "\u001b[H\u001b[2J\r"
     ]
    },
    {
     "name": "stderr",
     "output_type": "stream",
     "text": [
      "\n"
     ]
    },
    {
     "name": "stdout",
     "output_type": "stream",
     "text": [
      ">epoch=17, learning_rate=0.079, train_acc=0.4468, val_acc=0.4338\n"
     ]
    },
    {
     "name": "stderr",
     "output_type": "stream",
     "text": [
      "100%|██████████| 39980/39980 [00:01<00:00, 30071.79it/s]\n",
      "100%|██████████| 9996/9996 [00:00<00:00, 73409.44it/s]"
     ]
    },
    {
     "name": "stdout",
     "output_type": "stream",
     "text": [
      "Saved successfully\n",
      "\u001b[H\u001b[2J\r"
     ]
    },
    {
     "name": "stderr",
     "output_type": "stream",
     "text": [
      "\n"
     ]
    },
    {
     "name": "stdout",
     "output_type": "stream",
     "text": [
      ">epoch=18, learning_rate=0.079, train_acc=0.4496, val_acc=0.4343\n"
     ]
    },
    {
     "name": "stderr",
     "output_type": "stream",
     "text": [
      "100%|██████████| 39980/39980 [00:01<00:00, 29690.76it/s]\n",
      "100%|██████████| 9996/9996 [00:00<00:00, 74522.99it/s]"
     ]
    },
    {
     "name": "stdout",
     "output_type": "stream",
     "text": [
      "Saved successfully\n",
      "\u001b[H\u001b[2J\r"
     ]
    },
    {
     "name": "stderr",
     "output_type": "stream",
     "text": [
      "\n"
     ]
    },
    {
     "name": "stdout",
     "output_type": "stream",
     "text": [
      ">epoch=19, learning_rate=0.080, train_acc=0.4523, val_acc=0.4359\n"
     ]
    },
    {
     "name": "stderr",
     "output_type": "stream",
     "text": [
      "100%|██████████| 39980/39980 [00:01<00:00, 30361.13it/s]\n",
      "100%|██████████| 9996/9996 [00:00<00:00, 67815.29it/s]"
     ]
    },
    {
     "name": "stdout",
     "output_type": "stream",
     "text": [
      "\u001b[H\u001b[2J\r"
     ]
    },
    {
     "name": "stderr",
     "output_type": "stream",
     "text": [
      "\n"
     ]
    },
    {
     "name": "stdout",
     "output_type": "stream",
     "text": [
      ">epoch=20, learning_rate=0.081, train_acc=0.4543, val_acc=0.4356\n"
     ]
    },
    {
     "name": "stderr",
     "output_type": "stream",
     "text": [
      "100%|██████████| 39980/39980 [00:01<00:00, 30570.07it/s]\n",
      "100%|██████████| 9996/9996 [00:00<00:00, 68730.11it/s]"
     ]
    },
    {
     "name": "stdout",
     "output_type": "stream",
     "text": [
      "Saved successfully\n",
      "\u001b[H\u001b[2J\r"
     ]
    },
    {
     "name": "stderr",
     "output_type": "stream",
     "text": [
      "\n"
     ]
    },
    {
     "name": "stdout",
     "output_type": "stream",
     "text": [
      ">epoch=21, learning_rate=0.082, train_acc=0.4557, val_acc=0.4385\n"
     ]
    },
    {
     "name": "stderr",
     "output_type": "stream",
     "text": [
      "100%|██████████| 39980/39980 [00:01<00:00, 30580.93it/s]\n",
      "100%|██████████| 9996/9996 [00:00<00:00, 68858.23it/s]"
     ]
    },
    {
     "name": "stdout",
     "output_type": "stream",
     "text": [
      "Saved successfully\n",
      "\u001b[H\u001b[2J\r"
     ]
    },
    {
     "name": "stderr",
     "output_type": "stream",
     "text": [
      "\n"
     ]
    },
    {
     "name": "stdout",
     "output_type": "stream",
     "text": [
      ">epoch=22, learning_rate=0.083, train_acc=0.4569, val_acc=0.4403\n"
     ]
    },
    {
     "name": "stderr",
     "output_type": "stream",
     "text": [
      "100%|██████████| 39980/39980 [00:01<00:00, 29373.31it/s]\n",
      "100%|██████████| 9996/9996 [00:00<00:00, 68726.40it/s]"
     ]
    },
    {
     "name": "stdout",
     "output_type": "stream",
     "text": [
      "\u001b[H\u001b[2J\r"
     ]
    },
    {
     "name": "stderr",
     "output_type": "stream",
     "text": [
      "\n"
     ]
    },
    {
     "name": "stdout",
     "output_type": "stream",
     "text": [
      ">epoch=23, learning_rate=0.084, train_acc=0.4604, val_acc=0.4400\n"
     ]
    },
    {
     "name": "stderr",
     "output_type": "stream",
     "text": [
      "100%|██████████| 39980/39980 [00:01<00:00, 29920.46it/s]\n",
      "100%|██████████| 9996/9996 [00:00<00:00, 71731.73it/s]"
     ]
    },
    {
     "name": "stdout",
     "output_type": "stream",
     "text": [
      "\u001b[H\u001b[2J\r"
     ]
    },
    {
     "name": "stderr",
     "output_type": "stream",
     "text": [
      "\n"
     ]
    },
    {
     "name": "stdout",
     "output_type": "stream",
     "text": [
      ">epoch=24, learning_rate=0.085, train_acc=0.4597, val_acc=0.4396\n"
     ]
    },
    {
     "name": "stderr",
     "output_type": "stream",
     "text": [
      "100%|██████████| 39980/39980 [00:01<00:00, 30067.68it/s]\n",
      "100%|██████████| 9996/9996 [00:00<00:00, 70143.77it/s]"
     ]
    },
    {
     "name": "stdout",
     "output_type": "stream",
     "text": [
      "Saved successfully\n",
      "\u001b[H\u001b[2J\r"
     ]
    },
    {
     "name": "stderr",
     "output_type": "stream",
     "text": [
      "\n"
     ]
    },
    {
     "name": "stdout",
     "output_type": "stream",
     "text": [
      ">epoch=25, learning_rate=0.086, train_acc=0.4606, val_acc=0.4436\n"
     ]
    },
    {
     "name": "stderr",
     "output_type": "stream",
     "text": [
      "100%|██████████| 39980/39980 [00:01<00:00, 30364.62it/s]\n",
      "100%|██████████| 9996/9996 [00:00<00:00, 69353.83it/s]"
     ]
    },
    {
     "name": "stdout",
     "output_type": "stream",
     "text": [
      "\u001b[H\u001b[2J\r"
     ]
    },
    {
     "name": "stderr",
     "output_type": "stream",
     "text": [
      "\n"
     ]
    },
    {
     "name": "stdout",
     "output_type": "stream",
     "text": [
      ">epoch=26, learning_rate=0.087, train_acc=0.4629, val_acc=0.4429\n"
     ]
    },
    {
     "name": "stderr",
     "output_type": "stream",
     "text": [
      "100%|██████████| 39980/39980 [00:01<00:00, 28544.07it/s]\n",
      "100%|██████████| 9996/9996 [00:00<00:00, 58512.59it/s]"
     ]
    },
    {
     "name": "stdout",
     "output_type": "stream",
     "text": [
      "\u001b[H\u001b[2J\r"
     ]
    },
    {
     "name": "stderr",
     "output_type": "stream",
     "text": [
      "\n"
     ]
    },
    {
     "name": "stdout",
     "output_type": "stream",
     "text": [
      ">epoch=27, learning_rate=0.088, train_acc=0.4626, val_acc=0.4431\n"
     ]
    },
    {
     "name": "stderr",
     "output_type": "stream",
     "text": [
      "100%|██████████| 39980/39980 [00:01<00:00, 29462.04it/s]\n",
      "100%|██████████| 9996/9996 [00:00<00:00, 68764.04it/s]"
     ]
    },
    {
     "name": "stdout",
     "output_type": "stream",
     "text": [
      "\u001b[H\u001b[2J\r"
     ]
    },
    {
     "name": "stderr",
     "output_type": "stream",
     "text": [
      "\n"
     ]
    },
    {
     "name": "stdout",
     "output_type": "stream",
     "text": [
      ">epoch=28, learning_rate=0.089, train_acc=0.4619, val_acc=0.4436\n"
     ]
    },
    {
     "name": "stderr",
     "output_type": "stream",
     "text": [
      "100%|██████████| 39980/39980 [00:01<00:00, 29797.48it/s]\n",
      "100%|██████████| 9996/9996 [00:00<00:00, 70464.78it/s]"
     ]
    },
    {
     "name": "stdout",
     "output_type": "stream",
     "text": [
      "Saved successfully\n",
      ">epoch=29, learning_rate=0.090, train_acc=0.4637, val_acc=0.4504\n"
     ]
    },
    {
     "name": "stderr",
     "output_type": "stream",
     "text": [
      "\n"
     ]
    }
   ],
   "source": [
    "train_network(model=ann2,train_set=train_set, val_set=val_set, opt=my_opt, n_epoch=30, save_path='./pths/model2.pth', loss_func=cross_entropy_loss)\n"
   ]
  },
  {
   "cell_type": "markdown",
   "metadata": {},
   "source": [
    "## 7. Predict"
   ]
  },
  {
   "cell_type": "code",
   "execution_count": null,
   "metadata": {},
   "outputs": [],
   "source": [
    "test_label_predict = ann.predict(classification_test_data)"
   ]
  },
  {
   "cell_type": "code",
   "execution_count": null,
   "metadata": {},
   "outputs": [
    {
     "ename": "AttributeError",
     "evalue": "'list' object has no attribute 'reshape'",
     "output_type": "error",
     "traceback": [
      "\u001b[0;31m---------------------------------------------------------------------------\u001b[0m",
      "\u001b[0;31mAttributeError\u001b[0m                            Traceback (most recent call last)",
      "\u001b[1;32m/home/mark455/WORKSPACE/SUSTech_CS303_Project_2/Project2Subtask1/my_cls.ipynb Cell 24\u001b[0m line \u001b[0;36m4\n\u001b[1;32m      <a href='vscode-notebook-cell://wsl%2Bubuntu-22.04/home/mark455/WORKSPACE/SUSTech_CS303_Project_2/Project2Subtask1/my_cls.ipynb#X34sdnNjb2RlLXJlbW90ZQ%3D%3D?line=0'>1</a>\u001b[0m \u001b[39m# merge index and corresponding classification results \u001b[39;00m\n\u001b[1;32m      <a href='vscode-notebook-cell://wsl%2Bubuntu-22.04/home/mark455/WORKSPACE/SUSTech_CS303_Project_2/Project2Subtask1/my_cls.ipynb#X34sdnNjb2RlLXJlbW90ZQ%3D%3D?line=1'>2</a>\u001b[0m submit_data \u001b[39m=\u001b[39m np\u001b[39m.\u001b[39mhstack((\n\u001b[1;32m      <a href='vscode-notebook-cell://wsl%2Bubuntu-22.04/home/mark455/WORKSPACE/SUSTech_CS303_Project_2/Project2Subtask1/my_cls.ipynb#X34sdnNjb2RlLXJlbW90ZQ%3D%3D?line=2'>3</a>\u001b[0m     test_data_index\u001b[39m.\u001b[39mreshape(\u001b[39m-\u001b[39m\u001b[39m1\u001b[39m, \u001b[39m1\u001b[39m),\n\u001b[0;32m----> <a href='vscode-notebook-cell://wsl%2Bubuntu-22.04/home/mark455/WORKSPACE/SUSTech_CS303_Project_2/Project2Subtask1/my_cls.ipynb#X34sdnNjb2RlLXJlbW90ZQ%3D%3D?line=3'>4</a>\u001b[0m     test_label_predict\u001b[39m.\u001b[39;49mreshape(\u001b[39m-\u001b[39m\u001b[39m1\u001b[39m, \u001b[39m1\u001b[39m)\n\u001b[1;32m      <a href='vscode-notebook-cell://wsl%2Bubuntu-22.04/home/mark455/WORKSPACE/SUSTech_CS303_Project_2/Project2Subtask1/my_cls.ipynb#X34sdnNjb2RlLXJlbW90ZQ%3D%3D?line=4'>5</a>\u001b[0m     ))\n",
      "\u001b[0;31mAttributeError\u001b[0m: 'list' object has no attribute 'reshape'"
     ]
    }
   ],
   "source": [
    "# merge index and corresponding classification results \n",
    "submit_data = np.hstack((\n",
    "    test_data_index.reshape(-1, 1),\n",
    "    test_label_predict.reshape(-1, 1)\n",
    "    ))"
   ]
  },
  {
   "cell_type": "code",
   "execution_count": null,
   "metadata": {},
   "outputs": [],
   "source": [
    "submit_data.shape"
   ]
  },
  {
   "cell_type": "code",
   "execution_count": null,
   "metadata": {},
   "outputs": [],
   "source": [
    "\n",
    "util.save_data('./classification_results.pkl', submit_data)"
   ]
  }
 ],
 "metadata": {
  "kernelspec": {
   "display_name": "Python 3 (ipykernel)",
   "language": "python",
   "name": "python3"
  },
  "language_info": {
   "codemirror_mode": {
    "name": "ipython",
    "version": 3
   },
   "file_extension": ".py",
   "mimetype": "text/x-python",
   "name": "python",
   "nbconvert_exporter": "python",
   "pygments_lexer": "ipython3",
   "version": "3.10.12"
  }
 },
 "nbformat": 4,
 "nbformat_minor": 4
}
