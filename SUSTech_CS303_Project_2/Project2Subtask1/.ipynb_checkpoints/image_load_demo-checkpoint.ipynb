{
 "cells": [
  {
   "cell_type": "code",
   "execution_count": 1,
   "metadata": {},
   "outputs": [],
   "source": [
    "import util"
   ]
  },
  {
   "cell_type": "markdown",
   "metadata": {},
   "source": [
    "## 1. Image Classification Loading Data Example"
   ]
  },
  {
   "cell_type": "code",
   "execution_count": 2,
   "metadata": {},
   "outputs": [],
   "source": [
    "classification_train_data = util.load_data(\"./data/classification_train_data.pkl\")\n",
    "classification_train_label = util.load_data(\"./data/classification_train_label.pkl\")\n",
    "classification_test_data = util.load_data(\"./data/classification_test_data.pkl\")"
   ]
  },
  {
   "cell_type": "code",
   "execution_count": 3,
   "metadata": {},
   "outputs": [
    {
     "name": "stdout",
     "output_type": "stream",
     "text": [
      "Classification Train Data Shape: (49976, 257)\n",
      "Classification Train Label Shape: (49976, 2)\n",
      "Classification Test Data Shape: (9997, 257)\n"
     ]
    }
   ],
   "source": [
    "print(\"Classification Train Data Shape:\", classification_train_data.shape)\n",
    "print(\"Classification Train Label Shape:\", classification_train_label.shape)\n",
    "print(\"Classification Test Data Shape:\", classification_test_data.shape)"
   ]
  },
  {
   "cell_type": "markdown",
   "metadata": {},
   "source": [
    "## 2. Image Retrieval Loading Data Example"
   ]
  },
  {
   "cell_type": "code",
   "execution_count": 4,
   "metadata": {},
   "outputs": [],
   "source": [
    "image_retrieval_repository_data = util.load_data('./data/image_retrieval_repository_data.pkl')\n",
    "image_retrieval_test_data = util.load_data('./data/image_retrieval_test_data.pkl')"
   ]
  },
  {
   "cell_type": "code",
   "execution_count": 5,
   "metadata": {},
   "outputs": [
    {
     "name": "stdout",
     "output_type": "stream",
     "text": [
      "Image Retrieval Repository Data Shape: (5000, 257)\n",
      "Image Retrieval Test Data Shape: (1000, 257)\n"
     ]
    }
   ],
   "source": [
    "print(\"Image Retrieval Repository Data Shape:\", image_retrieval_repository_data.shape)\n",
    "print(\"Image Retrieval Test Data Shape:\", image_retrieval_test_data.shape)"
   ]
  }
 ],
 "metadata": {
  "kernelspec": {
   "display_name": "base",
   "language": "python",
   "name": "python3"
  },
  "language_info": {
   "codemirror_mode": {
    "name": "ipython",
    "version": 3
   },
   "file_extension": ".py",
   "mimetype": "text/x-python",
   "name": "python",
   "nbconvert_exporter": "python",
   "pygments_lexer": "ipython3",
   "version": "3.10.8"
  },
  "orig_nbformat": 4
 },
 "nbformat": 4,
 "nbformat_minor": 2
}
